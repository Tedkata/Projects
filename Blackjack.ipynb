{
 "cells": [
  {
   "cell_type": "code",
   "execution_count": 1,
   "id": "9ca3375e",
   "metadata": {},
   "outputs": [],
   "source": [
    "import random\n",
    "suits = ('Hearts','Diamonds','Spades','Clubs')\n",
    "ranks = ('Two','Three','Four','Five','Six','Seven','Eight','Nine','Ten','Jack','Queen','King','Ace')\n",
    "values={'Two':2,'Three':3,'Four':4, 'Five':5, 'Six':6, 'Seven':7, 'Eight':8, 'Nine':9, 'Ten':10, 'Jack':10,\n",
    "         'Queen':10, 'King':10, 'Ace':11}\n",
    "playing = True"
   ]
  },
  {
   "cell_type": "code",
   "execution_count": 2,
   "id": "a5f0771f",
   "metadata": {},
   "outputs": [],
   "source": [
    "class Card():\n",
    "    def __init__(self,suit,rank):\n",
    "        self.suit=suit\n",
    "        self.rank=rank\n",
    "        \n",
    "        \n",
    "    def __str__(self):\n",
    "        return self.rank + \" of \" + self.suit"
   ]
  },
  {
   "cell_type": "code",
   "execution_count": 3,
   "id": "ad8c721e",
   "metadata": {},
   "outputs": [],
   "source": [
    "class Deck:\n",
    "    def __init__(self):\n",
    "        self.deck = []\n",
    "        \n",
    "        for suit in suits:\n",
    "            for rank in ranks:\n",
    "                self.deck.append(Card(suit,rank))\n",
    "                \n",
    "    def __str__(self):\n",
    "        deck_comp = ''\n",
    "        for card in self.deck:\n",
    "            deck_comp += '\\n' + card.__str__()\n",
    "        return  \"The Deck has: \" + deck_comp\n",
    "    def shuffle(self):\n",
    "        random.shuffle(self.deck)\n",
    "    \n",
    "    def deal(self):\n",
    "        single_card = self.deck.pop()\n",
    "        return single_card\n",
    "        \n",
    "                "
   ]
  },
  {
   "cell_type": "code",
   "execution_count": 4,
   "id": "d0292d6e",
   "metadata": {},
   "outputs": [
    {
     "name": "stdout",
     "output_type": "stream",
     "text": [
      "The Deck has: \n",
      "Queen of Clubs\n",
      "Nine of Clubs\n",
      "Ten of Clubs\n",
      "Seven of Clubs\n",
      "Two of Diamonds\n",
      "Nine of Spades\n",
      "Six of Spades\n",
      "Three of Hearts\n",
      "Four of Diamonds\n",
      "Ten of Spades\n",
      "Four of Spades\n",
      "Jack of Hearts\n",
      "Six of Hearts\n",
      "Five of Diamonds\n",
      "King of Hearts\n",
      "Five of Spades\n",
      "Ace of Spades\n",
      "Six of Clubs\n",
      "Jack of Spades\n",
      "King of Diamonds\n",
      "Jack of Clubs\n",
      "Seven of Diamonds\n",
      "Ace of Clubs\n",
      "Four of Hearts\n",
      "Seven of Hearts\n",
      "King of Clubs\n",
      "Queen of Spades\n",
      "Five of Hearts\n",
      "Eight of Diamonds\n",
      "Five of Clubs\n",
      "Ace of Hearts\n",
      "Two of Clubs\n",
      "Ten of Hearts\n",
      "Three of Diamonds\n",
      "Nine of Diamonds\n",
      "Eight of Clubs\n",
      "Eight of Hearts\n",
      "Six of Diamonds\n",
      "Three of Clubs\n",
      "Seven of Spades\n",
      "King of Spades\n",
      "Ten of Diamonds\n",
      "Ace of Diamonds\n",
      "Queen of Diamonds\n",
      "Four of Clubs\n",
      "Queen of Hearts\n",
      "Eight of Spades\n",
      "Two of Hearts\n",
      "Nine of Hearts\n",
      "Three of Spades\n",
      "Jack of Diamonds\n",
      "Two of Spades\n"
     ]
    }
   ],
   "source": [
    "test_deck= Deck()\n",
    "test_deck.shuffle()\n",
    "print(test_deck)"
   ]
  },
  {
   "cell_type": "code",
   "execution_count": 5,
   "id": "2093d626",
   "metadata": {},
   "outputs": [],
   "source": [
    "class Hand():\n",
    "    def __init__(self):\n",
    "        self.cards = []\n",
    "        self.value = 0\n",
    "        self.aces = 0\n",
    "    def add_card(self,card):\n",
    "        self.cards.append(card)\n",
    "        self.value += values[card.rank]\n",
    "        if card.rank==\"Ace\":\n",
    "            self.aces+=1\n",
    "            \n",
    "    def adjust_for_ace(self):\n",
    "        while self.value > 21 and self.aces:\n",
    "            self.value-=10\n",
    "            self.aces-=1"
   ]
  },
  {
   "cell_type": "code",
   "execution_count": 6,
   "id": "e8d2910f",
   "metadata": {},
   "outputs": [],
   "source": [
    "test_deck = Deck()"
   ]
  },
  {
   "cell_type": "code",
   "execution_count": 7,
   "id": "a393c15e",
   "metadata": {},
   "outputs": [],
   "source": [
    "test_deck.shuffle()"
   ]
  },
  {
   "cell_type": "code",
   "execution_count": 8,
   "id": "a015ddaf",
   "metadata": {},
   "outputs": [],
   "source": [
    "test_player= Hand()"
   ]
  },
  {
   "cell_type": "code",
   "execution_count": 9,
   "id": "6fb94005",
   "metadata": {},
   "outputs": [],
   "source": [
    "test_player.add_card(test_deck.deal())"
   ]
  },
  {
   "cell_type": "code",
   "execution_count": 10,
   "id": "0a086485",
   "metadata": {},
   "outputs": [],
   "source": [
    "test_player.add_card(test_deck.deal())"
   ]
  },
  {
   "cell_type": "code",
   "execution_count": 11,
   "id": "898b4674",
   "metadata": {},
   "outputs": [
    {
     "data": {
      "text/plain": [
       "16"
      ]
     },
     "execution_count": 11,
     "metadata": {},
     "output_type": "execute_result"
    }
   ],
   "source": [
    "test_player.value"
   ]
  },
  {
   "cell_type": "code",
   "execution_count": 12,
   "id": "6834cf5a",
   "metadata": {
    "scrolled": true
   },
   "outputs": [
    {
     "name": "stdout",
     "output_type": "stream",
     "text": [
      "King of Spades\n",
      "Six of Spades\n"
     ]
    }
   ],
   "source": [
    "for card in test_player.cards:\n",
    "    print(card)"
   ]
  },
  {
   "cell_type": "code",
   "execution_count": 13,
   "id": "0e33896d",
   "metadata": {},
   "outputs": [],
   "source": [
    "class Chips():\n",
    "    def __init__(self):\n",
    "        self.total= 100\n",
    "        self.bet= 0\n",
    "    def win_bet(self):\n",
    "        self.total+=self.bet\n",
    "        \n",
    "    def lose_bet(self):\n",
    "        self.total-=self.bet\n",
    "        "
   ]
  },
  {
   "cell_type": "code",
   "execution_count": 21,
   "id": "8d1467d8",
   "metadata": {},
   "outputs": [],
   "source": [
    "def take_bet(chips):\n",
    "    while True:\n",
    "        try:\n",
    "            chips.bet=int(input(\"How many chips would you like to bet?\"))\n",
    "        except ValueError:\n",
    "            print(\"Sorry a bet must be an integer.\")\n",
    "        else:   \n",
    "            if chips.bet>chips.total:\n",
    "                print(\"Sorry, not enough chips\")\n",
    "            else:\n",
    "                break"
   ]
  },
  {
   "cell_type": "code",
   "execution_count": 22,
   "id": "171b5e06",
   "metadata": {},
   "outputs": [],
   "source": [
    "def hit(deck,hand):\n",
    "    hand.add_card(deck.deal())\n",
    "    hand.adjust_for_ace()"
   ]
  },
  {
   "cell_type": "code",
   "execution_count": 23,
   "id": "53b21efd",
   "metadata": {},
   "outputs": [],
   "source": [
    "def hit_or_stand(deck,hand):\n",
    "    global playing\n",
    "    while True:\n",
    "        x=input(\"Would you like to Hit or Stand? Enter 'h' or 's'\")\n",
    "        if x[0].lower()=='h':\n",
    "            hit(deck,hand)\n",
    "        elif x[0].lower()=='s':\n",
    "            print(\"Player stands, dealer is playing.\")\n",
    "            playing = False\n",
    "        else:\n",
    "            print(\"Sorry, please try again.\")\n",
    "            continue\n",
    "        break    \n",
    "            "
   ]
  },
  {
   "cell_type": "code",
   "execution_count": 24,
   "id": "f36a447b",
   "metadata": {},
   "outputs": [],
   "source": [
    "def show_some(player,dealer):\n",
    "    print(\"\\nDealer's Hand:\")\n",
    "    print(\"<card hidden>\")\n",
    "    print('',dealer.cards[1])  \n",
    "    print(\"\\nPlayer's Hand:\", *player.cards, sep='\\n')      \n",
    "    \n",
    "def show_all(player,dealer):\n",
    "    print(\"\\nDealer's Hand:\", *dealer.cards, sep='\\n ')\n",
    "    print(\"Dealer's Hand =\",dealer.value)\n",
    "    print(\"\\nPlayer's Hand:\", *player.cards, sep='\\n ')\n",
    "    print(\"Player's Hand =\",player.value)\n",
    "    "
   ]
  },
  {
   "cell_type": "code",
   "execution_count": 25,
   "id": "f7abfbf4",
   "metadata": {},
   "outputs": [],
   "source": [
    "def player_busts(player,dealer,chips):\n",
    "    print(\"Player busts!\")\n",
    "    chips.lose_bet()\n",
    "    \n",
    "    \n",
    "def player_wins(player,dealer,chips):\n",
    "    print(\"Player wins!\")\n",
    "    chips.win_bet()\n",
    "\n",
    "    \n",
    "def dealer_busts(player,dealer,chips):\n",
    "    print(\"Dealer busts!\")    \n",
    "    chips.win_bet()\n",
    "    \n",
    "    \n",
    "def dealer_wins(player,dealer,chips):\n",
    "    print(\"Dealer wins!\")\n",
    "    chips.lose_bet()\n",
    "\n",
    "    \n",
    "def push(player,dealer):\n",
    "    print(\"Dealer and player tie! It's a PUSH.\")\n",
    "    "
   ]
  },
  {
   "cell_type": "code",
   "execution_count": 27,
   "id": "7ec47e23",
   "metadata": {},
   "outputs": [
    {
     "name": "stdout",
     "output_type": "stream",
     "text": [
      "Welcome to Blackjack! Get as close to 21 as you can without going over\n",
      "    Dealer hits until she reaches 17. Aces count as 1 or 11.\n",
      "How many chips would you like to bet?26\n",
      "\n",
      "Dealer's Hand:\n",
      "<card hidden>\n",
      " Queen of Clubs\n",
      "\n",
      "Player's Hand:\n",
      "Eight of Hearts\n",
      "Nine of Diamonds\n",
      "\n",
      "Dealer's Hand:\n",
      " Three of Hearts\n",
      " Queen of Clubs\n",
      " Five of Hearts\n",
      "Dealer's Hand = 18\n",
      "\n",
      "Player's Hand:\n",
      " Eight of Hearts\n",
      " Nine of Diamonds\n",
      "Player's Hand = 17\n",
      "Dealer wins!\n",
      "\n",
      "Player's winnings stand at 74\n",
      "Would you play another hand? Enter 'y' or 'n' y\n",
      "Welcome to Blackjack! Get as close to 21 as you can without going over\n",
      "    Dealer hits until she reaches 17. Aces count as 1 or 11.\n",
      "How many chips would you like to bet?23\n",
      "\n",
      "Dealer's Hand:\n",
      "<card hidden>\n",
      " Ace of Diamonds\n",
      "\n",
      "Player's Hand:\n",
      "Seven of Clubs\n",
      "Six of Hearts\n",
      "Would you like to Hit or Stand? Enter 'h' or 's's\n",
      "Player stands, dealer is playing.\n",
      "\n",
      "Dealer's Hand:\n",
      "<card hidden>\n",
      " Ace of Diamonds\n",
      "\n",
      "Player's Hand:\n",
      "Seven of Clubs\n",
      "Six of Hearts\n",
      "\n",
      "Dealer's Hand:\n",
      " Six of Spades\n",
      " Ace of Diamonds\n",
      "Dealer's Hand = 17\n",
      "\n",
      "Player's Hand:\n",
      " Seven of Clubs\n",
      " Six of Hearts\n",
      "Player's Hand = 13\n",
      "Dealer wins!\n",
      "\n",
      "Player's winnings stand at 77\n",
      "Would you play another hand? Enter 'y' or 'n' n\n",
      "Thanks for playing!\n"
     ]
    }
   ],
   "source": [
    "while True:\n",
    "    print(\"Welcome to Blackjack! Get as close to 21 as you can without going over\\n\\\n",
    "    Dealer hits until she reaches 17. Aces count as 1 or 11.\")\n",
    "    deck = Deck()\n",
    "    deck.shuffle()\n",
    "    player_hand=Hand()\n",
    "    player_hand.add_card(deck.deal())\n",
    "    player_hand.add_card(deck.deal())\n",
    "    dealer_hand=Hand()\n",
    "    dealer_hand.add_card(deck.deal())\n",
    "    dealer_hand.add_card(deck.deal())\n",
    "    player_chips=Chips()\n",
    "    take_bet(player_chips)\n",
    "    show_some(player_hand,dealer_hand)\n",
    "    \n",
    "    while playing:\n",
    "        hit_or_stand(deck,player_hand)\n",
    "        show_some(player_hand,dealer_hand)\n",
    "        if player_hand.value>21:\n",
    "            player_busts(player_hand,dealer_hand,player_chips)\n",
    "            break\n",
    "    if player_hand.value<=21:\n",
    "        while dealer_hand.value<17:\n",
    "            hit(deck,dealer_hand)\n",
    "        show_all(player_hand,dealer_hand)\n",
    "        \n",
    "        if dealer_hand.value>21:\n",
    "            player_wins(player_hand,dealer_hand,player_chips)\n",
    "            \n",
    "        elif dealer_hand.value>player_hand.value:\n",
    "            dealer_wins(player_hand,dealer_hand,player_chips)\n",
    "        elif dealer_hand.value<player_hand.value:\n",
    "            player_wins(player_hand,dealer_hand,player_chips)\n",
    "        else:\n",
    "            push(player_hand,dealer_hand)\n",
    "    print(\"\\nPlayer's winnings stand at\",player_chips.total)\n",
    "    new_game=input(\"Would you play another hand? Enter 'y' or 'n' \")\n",
    "    if new_game[0].lower()=='y':\n",
    "        playing=True\n",
    "        continue\n",
    "    else:\n",
    "        print(\"Thanks for playing!\")\n",
    "        break\n",
    "        \n",
    "        \n",
    "        \n",
    "            \n",
    "    "
   ]
  },
  {
   "cell_type": "code",
   "execution_count": null,
   "id": "6b4430aa",
   "metadata": {},
   "outputs": [],
   "source": []
  }
 ],
 "metadata": {
  "kernelspec": {
   "display_name": "Python 3",
   "language": "python",
   "name": "python3"
  },
  "language_info": {
   "codemirror_mode": {
    "name": "ipython",
    "version": 3
   },
   "file_extension": ".py",
   "mimetype": "text/x-python",
   "name": "python",
   "nbconvert_exporter": "python",
   "pygments_lexer": "ipython3",
   "version": "3.8.8"
  }
 },
 "nbformat": 4,
 "nbformat_minor": 5
}
