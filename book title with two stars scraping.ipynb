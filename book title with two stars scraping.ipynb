{
 "cells": [
  {
   "cell_type": "code",
   "execution_count": 1,
   "id": "a485ff54",
   "metadata": {},
   "outputs": [],
   "source": [
    "#goal: get the title of every book with 2 star rating"
   ]
  },
  {
   "cell_type": "code",
   "execution_count": 2,
   "id": "fac175cb",
   "metadata": {},
   "outputs": [],
   "source": [
    "import requests"
   ]
  },
  {
   "cell_type": "code",
   "execution_count": 3,
   "id": "044666b6",
   "metadata": {},
   "outputs": [],
   "source": [
    "import bs4"
   ]
  },
  {
   "cell_type": "code",
   "execution_count": 4,
   "id": "ae6fb8ec",
   "metadata": {},
   "outputs": [
    {
     "data": {
      "text/plain": [
       "'https://books.toscrape.com/catalogue/page-1.html'"
      ]
     },
     "execution_count": 4,
     "metadata": {},
     "output_type": "execute_result"
    }
   ],
   "source": [
    "'https://books.toscrape.com/catalogue/page-1.html'"
   ]
  },
  {
   "cell_type": "code",
   "execution_count": 5,
   "id": "0f8b2788",
   "metadata": {},
   "outputs": [],
   "source": [
    "base_url= 'https://books.toscrape.com/catalogue/page-{}.html'"
   ]
  },
  {
   "cell_type": "code",
   "execution_count": 6,
   "id": "2a94553f",
   "metadata": {},
   "outputs": [
    {
     "data": {
      "text/plain": [
       "'https://books.toscrape.com/catalogue/page-1.html'"
      ]
     },
     "execution_count": 6,
     "metadata": {},
     "output_type": "execute_result"
    }
   ],
   "source": [
    "\n",
    "base_url.format(1)"
   ]
  },
  {
   "cell_type": "code",
   "execution_count": 7,
   "id": "487ae735",
   "metadata": {},
   "outputs": [],
   "source": [
    "res = requests.get(base_url.format(1))"
   ]
  },
  {
   "cell_type": "code",
   "execution_count": 8,
   "id": "b49eb2a5",
   "metadata": {},
   "outputs": [],
   "source": [
    "soup=bs4.BeautifulSoup(res.text,'lxml')"
   ]
  },
  {
   "cell_type": "code",
   "execution_count": 9,
   "id": "4af21c71",
   "metadata": {},
   "outputs": [],
   "source": [
    "products=soup.select(\".product_pod\")"
   ]
  },
  {
   "cell_type": "code",
   "execution_count": 10,
   "id": "26f7a811",
   "metadata": {},
   "outputs": [],
   "source": [
    "example=products[0]"
   ]
  },
  {
   "cell_type": "code",
   "execution_count": 11,
   "id": "cbe342e9",
   "metadata": {},
   "outputs": [
    {
     "data": {
      "text/plain": [
       "False"
      ]
     },
     "execution_count": 11,
     "metadata": {},
     "output_type": "execute_result"
    }
   ],
   "source": [
    "'star-rating Two' in str(example)"
   ]
  },
  {
   "cell_type": "code",
   "execution_count": 12,
   "id": "8c3e112d",
   "metadata": {},
   "outputs": [
    {
     "data": {
      "text/plain": [
       "[<p class=\"star-rating Three\">\n",
       " <i class=\"icon-star\"></i>\n",
       " <i class=\"icon-star\"></i>\n",
       " <i class=\"icon-star\"></i>\n",
       " <i class=\"icon-star\"></i>\n",
       " <i class=\"icon-star\"></i>\n",
       " </p>]"
      ]
     },
     "execution_count": 12,
     "metadata": {},
     "output_type": "execute_result"
    }
   ],
   "source": [
    "example.select(\".star-rating.Three\")"
   ]
  },
  {
   "cell_type": "code",
   "execution_count": null,
   "id": "90066440",
   "metadata": {},
   "outputs": [],
   "source": [
    "#title\n",
    "example.select(\"a\")[1]['title']"
   ]
  },
  {
   "cell_type": "code",
   "execution_count": null,
   "id": "6a52f71e",
   "metadata": {},
   "outputs": [],
   "source": [
    "#we can check if 2 stars (string call in or  example.select(rating))\n",
    "#example.select('a')[1]['title']"
   ]
  },
  {
   "cell_type": "code",
   "execution_count": null,
   "id": "2b3cff22",
   "metadata": {},
   "outputs": [],
   "source": [
    "two_star_titles= []\n",
    "for n in range(1,51):\n",
    "    scrape_url=base_url.format(n)\n",
    "    res = requests.get(scrape_url)\n",
    "    soup= bs4.BeautifulSoup(res.text,'lxml')\n",
    "    books=soup.select(\".product_pod\")\n",
    "    for book in books:\n",
    "        if len(book.select(\".star-rating.Two\"))!=0:\n",
    "            book_title=book.select('a')[1]['title']\n",
    "            two_star_titles.append(book_title)\n",
    "\n",
    "        \n",
    "       "
   ]
  },
  {
   "cell_type": "code",
   "execution_count": null,
   "id": "5080f9a1",
   "metadata": {},
   "outputs": [],
   "source": [
    "two_star_titles"
   ]
  },
  {
   "cell_type": "code",
   "execution_count": null,
   "id": "7581f42a",
   "metadata": {},
   "outputs": [],
   "source": []
  }
 ],
 "metadata": {
  "kernelspec": {
   "display_name": "Python 3",
   "language": "python",
   "name": "python3"
  },
  "language_info": {
   "codemirror_mode": {
    "name": "ipython",
    "version": 3
   },
   "file_extension": ".py",
   "mimetype": "text/x-python",
   "name": "python",
   "nbconvert_exporter": "python",
   "pygments_lexer": "ipython3",
   "version": "3.8.8"
  }
 },
 "nbformat": 4,
 "nbformat_minor": 5
}
