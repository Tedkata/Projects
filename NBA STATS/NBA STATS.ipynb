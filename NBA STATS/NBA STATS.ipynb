{
 "cells": [
  {
   "cell_type": "code",
   "execution_count": null,
   "id": "654bb2a9",
   "metadata": {},
   "outputs": [],
   "source": [
    "import numpy as np\n",
    "import pandas as pd\n",
    "game_on=True\n",
    "from PIL import Image"
   ]
  },
  {
   "cell_type": "code",
   "execution_count": null,
   "id": "c7c3a975",
   "metadata": {},
   "outputs": [],
   "source": [
    "df = pd.DataFrame({ \n",
    "        'Name':['Lebron','Kobe','Hakeem','Curry','Shaq','Durant','Kareem'], \n",
    "        'Age':[37,42,56,33,44,34,62], \n",
    "        'Weight': [250, 210, 260, 190, 300, 235, 255], \n",
    "        'Gender':['M','M','M','M','M','M','M'], \n",
    "        'Home':['Cleveland','California','Houston','Golden State','California','Brooklyn','New York'],\n",
    "        'Titles':[4,5,2,3,4,2,6],\n",
    "        'Mvps':[5,1,2,2,1,2,6] \n",
    "    }) \n"
   ]
  },
  {
   "cell_type": "code",
   "execution_count": null,
   "id": "bdc9c0f8",
   "metadata": {},
   "outputs": [],
   "source": [
    "def answer_get():\n",
    "    answer = input('Who is the greatest among these: ?')\n",
    "    if answer!='Lebron':\n",
    "        print(\"That is your opinion\")\n",
    "        if answer==\"Kobe\":\n",
    "            print(\"Kobe is the 3rd probably\")\n",
    "            ik=Image.open(\"98224ac3-aedc-44d4-9ad2-a6b8b0c06e2c.jpg\")\n",
    "            ik.show()\n",
    "        elif answer==\"Hakeem\":\n",
    "            print(\"Ye, he great but not the greatest\")\n",
    "            ih=Image.open(\"Hakeem-Olajuwon-1994.jpg\")\n",
    "            ih.show()\n",
    "        elif answer == \"Curry\":\n",
    "            print(\"Okay he the greatest in this generation!\")\n",
    "            ic=Image.open(\"Stephen-Curry-1024x704.jpg\")\n",
    "            ic.show()\n",
    "        elif answer == \"Shaq\":\n",
    "            print(\"He is the most dominant player when he is in his prime!\")\n",
    "            isq=Image.open(\"16303964956430.jpg\")\n",
    "            isq.show()\n",
    "        elif answer == \"Durant\":\n",
    "            print(\"Durant is the best 1 on 1 scorer!\")\n",
    "            idt=Image.open(\"Kevin-Durant-4.jpg\")\n",
    "            idt.show()\n",
    "        elif answer == \"Kareem\":\n",
    "            print(\"He is great but played long long ago when players didn't match today's skill level!\")\n",
    "            ikrm=Image.open(\"gettyimages-96360482-2048x2048.jpg\")\n",
    "            ikrm.show()\n",
    "\n",
    "\n",
    "    else:\n",
    "        print('Yes, you are correct!\\nLebron is the greatest!')\n",
    "        im=Image.open(\"800px-LeBron_James_18112009_1.jpg\")\n",
    "        im.show()"
   ]
  },
  {
   "cell_type": "code",
   "execution_count": null,
   "id": "47eec250",
   "metadata": {
    "scrolled": true
   },
   "outputs": [],
   "source": [
    "while game_on:\n",
    "    print(\"Welcome to NBA Quizz Game\")\n",
    "    print(df) \n",
    "    #Game Time - quizz\n",
    "    answer_get()\n",
    "\n",
    "\n",
    "   \n",
    "\n",
    "    play_again=input(\"Would you like to play again?\")\n",
    "    if play_again.capitalize()=='Yes':\n",
    "        print('\\n' * 50)\n",
    "        continue\n",
    "    else:\n",
    "        game_on=False\n",
    "    \n"
   ]
  },
  {
   "cell_type": "code",
   "execution_count": null,
   "id": "68c06a97",
   "metadata": {},
   "outputs": [],
   "source": []
  }
 ],
 "metadata": {
  "kernelspec": {
   "display_name": "Python 3",
   "language": "python",
   "name": "python3"
  },
  "language_info": {
   "codemirror_mode": {
    "name": "ipython",
    "version": 3
   },
   "file_extension": ".py",
   "mimetype": "text/x-python",
   "name": "python",
   "nbconvert_exporter": "python",
   "pygments_lexer": "ipython3",
   "version": "3.8.8"
  }
 },
 "nbformat": 4,
 "nbformat_minor": 5
}
